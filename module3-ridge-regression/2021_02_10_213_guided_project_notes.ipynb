{
  "nbformat": 4,
  "nbformat_minor": 0,
  "metadata": {
    "colab": {
      "name": "2021-02-10_213-guided-project-notes.ipynb",
      "provenance": [],
      "collapsed_sections": []
    },
    "kernelspec": {
      "name": "python3",
      "display_name": "Python 3"
    }
  },
  "cells": [
    {
      "cell_type": "code",
      "metadata": {
        "id": "k0dvbuCzd5qK",
        "colab": {
          "base_uri": "https://localhost:8080/"
        },
        "outputId": "2ceae4ba-ccf9-4963-a050-77599c36ee61"
      },
      "source": [
        "# For encoding categorical data\n",
        "!pip install category_encoders==2.*\n",
        "from category_encoders import OneHotEncoder\n",
        "# model building\n",
        "from sklearn.feature_selection import SelectKBest\n",
        "from sklearn.linear_model import LinearRegression, Ridge\n",
        "from sklearn.metrics import mean_absolute_error, mean_squared_error\n",
        "from sklearn.pipeline import make_pipeline\n",
        "import matplotlib.pyplot as plt\n",
        "\n",
        "import numpy as np\n",
        "import pandas as pd\n",
        "import sys"
      ],
      "execution_count": null,
      "outputs": [
        {
          "output_type": "stream",
          "text": [
            "Collecting category_encoders==2.*\n",
            "\u001b[?25l  Downloading https://files.pythonhosted.org/packages/44/57/fcef41c248701ee62e8325026b90c432adea35555cbc870aff9cfba23727/category_encoders-2.2.2-py2.py3-none-any.whl (80kB)\n",
            "\r\u001b[K     |████                            | 10kB 13.0MB/s eta 0:00:01\r\u001b[K     |████████▏                       | 20kB 13.1MB/s eta 0:00:01\r\u001b[K     |████████████▏                   | 30kB 9.1MB/s eta 0:00:01\r\u001b[K     |████████████████▎               | 40kB 8.1MB/s eta 0:00:01\r\u001b[K     |████████████████████▎           | 51kB 4.1MB/s eta 0:00:01\r\u001b[K     |████████████████████████▍       | 61kB 4.8MB/s eta 0:00:01\r\u001b[K     |████████████████████████████▍   | 71kB 4.9MB/s eta 0:00:01\r\u001b[K     |████████████████████████████████| 81kB 3.4MB/s \n",
            "\u001b[?25hRequirement already satisfied: statsmodels>=0.9.0 in /usr/local/lib/python3.6/dist-packages (from category_encoders==2.*) (0.10.2)\n",
            "Requirement already satisfied: pandas>=0.21.1 in /usr/local/lib/python3.6/dist-packages (from category_encoders==2.*) (1.1.5)\n",
            "Requirement already satisfied: numpy>=1.14.0 in /usr/local/lib/python3.6/dist-packages (from category_encoders==2.*) (1.19.5)\n",
            "Requirement already satisfied: scikit-learn>=0.20.0 in /usr/local/lib/python3.6/dist-packages (from category_encoders==2.*) (0.22.2.post1)\n",
            "Requirement already satisfied: patsy>=0.5.1 in /usr/local/lib/python3.6/dist-packages (from category_encoders==2.*) (0.5.1)\n",
            "Requirement already satisfied: scipy>=1.0.0 in /usr/local/lib/python3.6/dist-packages (from category_encoders==2.*) (1.4.1)\n",
            "Requirement already satisfied: pytz>=2017.2 in /usr/local/lib/python3.6/dist-packages (from pandas>=0.21.1->category_encoders==2.*) (2018.9)\n",
            "Requirement already satisfied: python-dateutil>=2.7.3 in /usr/local/lib/python3.6/dist-packages (from pandas>=0.21.1->category_encoders==2.*) (2.8.1)\n",
            "Requirement already satisfied: joblib>=0.11 in /usr/local/lib/python3.6/dist-packages (from scikit-learn>=0.20.0->category_encoders==2.*) (1.0.0)\n",
            "Requirement already satisfied: six in /usr/local/lib/python3.6/dist-packages (from patsy>=0.5.1->category_encoders==2.*) (1.15.0)\n",
            "Installing collected packages: category-encoders\n",
            "Successfully installed category-encoders-2.2.2\n"
          ],
          "name": "stdout"
        },
        {
          "output_type": "stream",
          "text": [
            "/usr/local/lib/python3.6/dist-packages/statsmodels/tools/_testing.py:19: FutureWarning: pandas.util.testing is deprecated. Use the functions in the public API at pandas.testing instead.\n",
            "  import pandas.util.testing as tm\n"
          ],
          "name": "stderr"
        }
      ]
    },
    {
      "cell_type": "code",
      "metadata": {
        "id": "1b-9pnwe8z4C"
      },
      "source": [
        "from category_encoders import OneHotEncoder"
      ],
      "execution_count": null,
      "outputs": []
    },
    {
      "cell_type": "markdown",
      "metadata": {
        "id": "Ze55NF5W8zwZ"
      },
      "source": [
        ""
      ]
    },
    {
      "cell_type": "markdown",
      "metadata": {
        "id": "c9XvBGFMguJ1"
      },
      "source": [
        "# NYC Rent\n",
        "\n",
        "**GOAL:** Improve our model for predicting NYC rent prices.\n",
        "\n",
        "**Objectives**\n",
        "\n",
        "- Do one-hot encoding of categorical features\n",
        "- Do univariate feature selection\n",
        "- Use scikit-learn to fit Ridge Regression models"
      ]
    },
    {
      "cell_type": "code",
      "metadata": {
        "id": "wz7tyC22gLEA"
      },
      "source": [
        "%%capture\n",
        "# If you're on Colab:\n",
        "if 'google.colab' in sys.modules:\n",
        "    DATA_PATH = 'https://raw.githubusercontent.com/LambdaSchool/DS-Unit-2-Applied-Modeling/master/data/'\n",
        "    !pip install category_encoders==2.*\n",
        "\n",
        "# If you're working locally:\n",
        "else:\n",
        "    DATA_PATH = '../data/'\n",
        "\n",
        "    "
      ],
      "execution_count": null,
      "outputs": []
    },
    {
      "cell_type": "markdown",
      "metadata": {
        "id": "0kaV7oNahJLj"
      },
      "source": [
        "# I. Wrangle Data"
      ]
    },
    {
      "cell_type": "markdown",
      "metadata": {
        "id": "iOecYDRyx5m-"
      },
      "source": [
        "Create **wrangle function** for **reproducibility**."
      ]
    },
    {
      "cell_type": "code",
      "metadata": {
        "id": "m9Dm3h3Ux5AI"
      },
      "source": [
        "\n",
        "def wrangle(filepath):\n",
        "  df = pd.read_csv(filepath,\n",
        "                   parse_dates=['created'],\n",
        "                   index_col='created')\n",
        "  df = df[(df['price'] >= np.percentile(df['price'], 0.5)) & \n",
        "        (df['price'] <= np.percentile(df['price'], 99.5)) & \n",
        "        (df['latitude'] >= np.percentile(df['latitude'], 0.05)) & \n",
        "        (df['latitude'] < np.percentile(df['latitude'], 99.95)) &\n",
        "        (df['longitude'] >= np.percentile(df['longitude'], 0.05)) & \n",
        "        (df['longitude'] <= np.percentile(df['longitude'], 99.95))]\n",
        "\n",
        "  cutoff = 5\n",
        "  drop_cols = [col for col in df.select_dtypes('object') if df[col].nunique() > cutoff]    \n",
        "  df.drop(columns=drop_cols,inplace=True)   \n",
        "  return df      \n",
        "        \n",
        "df = wrangle(DATA_PATH+'apartments/renthop-nyc.csv')"
      ],
      "execution_count": null,
      "outputs": []
    },
    {
      "cell_type": "code",
      "metadata": {
        "colab": {
          "base_uri": "https://localhost:8080/"
        },
        "id": "fyBtd0E_9Pkl",
        "outputId": "7d67d369-29d5-47ee-9dbf-9c4e7949c9ba"
      },
      "source": [
        "df.select_dtypes('object').nunique()\r\n",
        "drop_cols =[]\r\n",
        "cutoff = 5\r\n",
        "for col in df.select_dtypes('object'):\r\n",
        "  if df[col].nunique() > cutoff:\r\n",
        "    drop_cols.append(col)\r\n",
        "print(drop_cols)    "
      ],
      "execution_count": null,
      "outputs": [
        {
          "output_type": "stream",
          "text": [
            "[]\n"
          ],
          "name": "stdout"
        }
      ]
    },
    {
      "cell_type": "code",
      "metadata": {
        "colab": {
          "base_uri": "https://localhost:8080/"
        },
        "id": "Z9th5i2oAxcd",
        "outputId": "08d788fa-49b5-4570-94fd-399bdf88988f"
      },
      "source": [
        "drop_cols = [col for col in df.select_dtypes('object') if df[col].nunique() > cutoff] \r\n",
        "drop_cols"
      ],
      "execution_count": null,
      "outputs": [
        {
          "output_type": "execute_result",
          "data": {
            "text/plain": [
              "[]"
            ]
          },
          "metadata": {
            "tags": []
          },
          "execution_count": 21
        }
      ]
    },
    {
      "cell_type": "markdown",
      "metadata": {
        "id": "0-yQ7Gql9PI6"
      },
      "source": [
        ""
      ]
    },
    {
      "cell_type": "markdown",
      "metadata": {
        "id": "Fr-x5LJo0pRc"
      },
      "source": [
        "# II. Split Data\n",
        "\n",
        "Split **target vector** from **feature matrix**."
      ]
    },
    {
      "cell_type": "code",
      "metadata": {
        "id": "r2TXo5xLo662"
      },
      "source": [
        "target = 'price'\n",
        "y = df[target]\n",
        "X = df.drop(columns=target)"
      ],
      "execution_count": null,
      "outputs": []
    },
    {
      "cell_type": "markdown",
      "metadata": {
        "id": "ZMoRDMuT7A7q"
      },
      "source": [
        "Split data into **training** and **test** sets.\n",
        "\n",
        "(Use data from April & May 2016 to train. Use data from June 2016 to test.)"
      ]
    },
    {
      "cell_type": "code",
      "metadata": {
        "id": "7w92aZ7co9CA"
      },
      "source": [
        "cutoff = '2016-06-01'\n",
        "mask = X.index < cutoff\n",
        "\n",
        "X_train, y_train = X.loc[mask], y.loc[mask]\n",
        "X_test, y_test = X.loc[~mask], y.loc[~mask]"
      ],
      "execution_count": null,
      "outputs": []
    },
    {
      "cell_type": "markdown",
      "metadata": {
        "id": "-x9lFKmupRWk"
      },
      "source": [
        "# III. Establish Baseline"
      ]
    },
    {
      "cell_type": "markdown",
      "metadata": {
        "id": "d1BOKNBc7Jnf"
      },
      "source": [
        "**Note:** This is a **regression** problem because we're predictiong the continuous value `'price'`."
      ]
    },
    {
      "cell_type": "code",
      "metadata": {
        "id": "-XNZHgf-7XQc",
        "colab": {
          "base_uri": "https://localhost:8080/"
        },
        "outputId": "e4d79676-53eb-45fd-c3e7-c3009aa9f658"
      },
      "source": [
        "y_pred = [y_train.mean()] * len(y_train)\n",
        "print('Mean price:', y_train.mean())\n",
        "print('Baseline MAE:', mean_absolute_error(y_train, y_pred))"
      ],
      "execution_count": null,
      "outputs": [
        {
          "output_type": "stream",
          "text": [
            "Mean price: 3575.604007034292\n",
            "Baseline MAE: 1201.8811133682555\n"
          ],
          "name": "stdout"
        }
      ]
    },
    {
      "cell_type": "markdown",
      "metadata": {
        "id": "Xea7aFidqPoV"
      },
      "source": [
        "# IV. Build Models"
      ]
    },
    {
      "cell_type": "markdown",
      "metadata": {
        "id": "TFc7aAwylBwv"
      },
      "source": [
        "**Question:** How can we represent *categorical* features numerically so that we can use them to train our model?"
      ]
    },
    {
      "cell_type": "code",
      "metadata": {
        "id": "OOsVETc19TXY",
        "colab": {
          "base_uri": "https://localhost:8080/"
        },
        "outputId": "17b11e7a-0aa0-4d08-9850-65bbbfbc0a7d"
      },
      "source": [
        "# step 1: import your transformer class\r\n",
        "#we did above\r\n",
        "\r\n",
        "#step 2: instantiate your transformer\r\n",
        "ohe = OneHotEncoder(use_cat_names = True)\r\n",
        "\r\n",
        "#step 3: you fit your transformer to the TRAINING data\r\n",
        "ohe.fit(X_train) #only on feature matrix (sometimes)\r\n",
        "                 # Never refit your transformer on your TEST data\r\n",
        "\r\n",
        "#step 4: transform my training data\r\n",
        "XT_train = ohe.transform(X_train)\r\n",
        "XT_test = ohe.transform(X_test)\r\n",
        "\r\n",
        "\r\n",
        "#Regular linearl Regrassion\r\n",
        "model_lr = LinearRegression()\r\n",
        "\r\n",
        "model_lr.fit(XT_train,y_train)\r\n",
        "\r\n",
        "# Ridge Regression(regularization)\r\n",
        "\r\n",
        "model_r = Ridge(alpha = 1.0) #alpha is a hyper parameter\r\n",
        "model_r.fit(XT_train, y_train)\r\n",
        "\r\n",
        "#SelectKBest model\r\n",
        "\r\n",
        "skb = SelectKBest(k=10)\r\n",
        "skb.fit(XT_train,y_train)\r\n",
        "\r\n",
        "XTT_train = skb.transform(XT_train)\r\n",
        "XTT_test = skb.transform(XT_test)\r\n",
        "\r\n",
        "model_lr2 = LinearRegression()\r\n",
        "model_lr2.fit(XTT_train,y_train)"
      ],
      "execution_count": null,
      "outputs": [
        {
          "output_type": "stream",
          "text": [
            "/usr/local/lib/python3.6/dist-packages/category_encoders/utils.py:21: FutureWarning: is_categorical is deprecated and will be removed in a future version.  Use is_categorical_dtype instead\n",
            "  elif pd.api.types.is_categorical(cols):\n"
          ],
          "name": "stderr"
        },
        {
          "output_type": "execute_result",
          "data": {
            "text/plain": [
              "LinearRegression(copy_X=True, fit_intercept=True, n_jobs=None, normalize=False)"
            ]
          },
          "metadata": {
            "tags": []
          },
          "execution_count": 25
        }
      ]
    },
    {
      "cell_type": "markdown",
      "metadata": {
        "id": "rHhIH6VE0iRH"
      },
      "source": [
        "# V. Check Metrics"
      ]
    },
    {
      "cell_type": "code",
      "metadata": {
        "id": "hDj8LEUVOdGs",
        "colab": {
          "base_uri": "https://localhost:8080/"
        },
        "outputId": "57a7a364-dc32-4539-dcff-0ea3199bf423"
      },
      "source": [
        "print('LR training MAE:', mean_absolute_error(y_train, model_lr.predict(XT_train)))\n",
        "print('LR test MAE:', mean_absolute_error(y_test, model_lr.predict(XT_test)))"
      ],
      "execution_count": null,
      "outputs": [
        {
          "output_type": "stream",
          "text": [
            "LR training MAE: 673.1551409557138\n",
            "LR test MAE: 676.1110962539769\n"
          ],
          "name": "stdout"
        }
      ]
    },
    {
      "cell_type": "code",
      "metadata": {
        "id": "BXrqHj_lHPum",
        "colab": {
          "base_uri": "https://localhost:8080/"
        },
        "outputId": "48230d84-85ba-4ca0-fa8b-04ee8969698f"
      },
      "source": [
        "print('Ridge training MAE:', mean_absolute_error(y_train, model_r.predict(XT_train)))\n",
        "print('Ridge test MAE:', mean_absolute_error(y_test, model_r.predict(XT_test)))"
      ],
      "execution_count": null,
      "outputs": [
        {
          "output_type": "stream",
          "text": [
            "Ridge training MAE: 672.6640726589972\n",
            "Ridge test MAE: 675.514908956413\n"
          ],
          "name": "stdout"
        }
      ]
    },
    {
      "cell_type": "code",
      "metadata": {
        "id": "txAgb28oTqi4",
        "colab": {
          "base_uri": "https://localhost:8080/"
        },
        "outputId": "df869f48-c400-401f-ca08-1790fb27fbf9"
      },
      "source": [
        "print('Ridge training MAE:', mean_absolute_error(y_train, model_lr2.predict(XTT_train)))\r\n",
        "print('Ridge test MAE:', mean_absolute_error(y_test, model_lr2.predict(XTT_test)))"
      ],
      "execution_count": null,
      "outputs": [
        {
          "output_type": "stream",
          "text": [
            "Ridge training MAE: 702.8736659951701\n",
            "Ridge test MAE: 712.1750705952646\n"
          ],
          "name": "stdout"
        }
      ]
    },
    {
      "cell_type": "markdown",
      "metadata": {
        "id": "uI9K2OXDWThQ"
      },
      "source": [
        "# Communicate results"
      ]
    },
    {
      "cell_type": "code",
      "metadata": {
        "id": "0OZOt0w1JIJP"
      },
      "source": [
        "feature_names = ohe.get_feature_names()\r\n",
        "coefficients = model_lr.coef_\r\n",
        "feature_importances = pd.Series(coefficients,index=feature_names).sort_values(key=abs)"
      ],
      "execution_count": null,
      "outputs": []
    },
    {
      "cell_type": "code",
      "metadata": {
        "colab": {
          "base_uri": "https://localhost:8080/"
        },
        "id": "ecRB7BX1NFdN",
        "outputId": "6630a1e0-7349-4519-d2f1-5e94b910435a"
      },
      "source": [
        "feature_importances"
      ],
      "execution_count": null,
      "outputs": [
        {
          "output_type": "execute_result",
          "data": {
            "text/plain": [
              "cats_allowed            -3.432675e+01\n",
              "garden_patio            -4.263046e+01\n",
              "balcony                 -4.465050e+01\n",
              "swimming_pool            5.671776e+01\n",
              "dishwasher               5.679622e+01\n",
              "dogs_allowed             7.594788e+01\n",
              "outdoor_space           -7.846545e+01\n",
              "pre-war                 -9.009727e+01\n",
              "no_fee                  -1.004812e+02\n",
              "laundry_in_building     -1.065068e+02\n",
              "fitness_center           1.135758e+02\n",
              "new_construction        -1.319848e+02\n",
              "loft                     1.361026e+02\n",
              "hardwood_floors         -1.417584e+02\n",
              "exclusive                1.421882e+02\n",
              "elevator                 1.461599e+02\n",
              "common_outdoor_space    -1.525611e+02\n",
              "roof_deck               -1.626352e+02\n",
              "wheelchair_access        1.755704e+02\n",
              "terrace                  1.783703e+02\n",
              "dining_room              2.593674e+02\n",
              "high_speed_internet     -2.934042e+02\n",
              "doorman                  4.262460e+02\n",
              "laundry_in_unit          4.764909e+02\n",
              "bedrooms                 4.917048e+02\n",
              "latitude                 1.233050e+03\n",
              "bathrooms                1.704495e+03\n",
              "longitude               -1.315964e+04\n",
              "interest_level_high      3.351864e+13\n",
              "interest_level_medium    3.351864e+13\n",
              "interest_level_low       3.351864e+13\n",
              "dtype: float64"
            ]
          },
          "metadata": {
            "tags": []
          },
          "execution_count": 30
        }
      ]
    },
    {
      "cell_type": "code",
      "metadata": {
        "colab": {
          "base_uri": "https://localhost:8080/"
        },
        "id": "iI0WJzj8PEM5",
        "outputId": "8c00c25b-5107-499c-a195-d910d06ff35a"
      },
      "source": [
        "feature_names = ohe.get_feature_names()\r\n",
        "coefficients = model_r.coef_\r\n",
        "feature_importances = pd.Series(coefficients,index=feature_names).sort_values(key=abs)\r\n",
        "feature_importances.plot(kind='barh',title='Ridge Coefficients')"
      ],
      "execution_count": null,
      "outputs": [
        {
          "output_type": "execute_result",
          "data": {
            "text/plain": [
              "<matplotlib.axes._subplots.AxesSubplot at 0x7fba6e373978>"
            ]
          },
          "metadata": {
            "tags": []
          },
          "execution_count": 31
        },
        {
          "output_type": "display_data",
          "data": {
            "image/png": "[encoded data removed]",
            "text/plain": [
              "<Figure size 432x288 with 1 Axes>"
            ]
          },
          "metadata": {
            "tags": [],
            "needs_background": "light"
          }
        }
      ]
    },
    {
      "cell_type": "code",
      "metadata": {
        "id": "Mc0Lnkf1SPF3"
      },
      "source": [
        ""
      ],
      "execution_count": null,
      "outputs": []
    }
  ]
}